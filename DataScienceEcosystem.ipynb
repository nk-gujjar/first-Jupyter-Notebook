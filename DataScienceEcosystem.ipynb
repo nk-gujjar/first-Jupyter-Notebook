{
 "cells": [
  {
   "cell_type": "markdown",
   "id": "1fbc195e-18bb-4a0a-9449-3ffddb383717",
   "metadata": {},
   "source": [
    "# Data Science Tools and Ecosystem"
   ]
  },
  {
   "cell_type": "markdown",
   "id": "945d57c1-f39a-48ee-a1cf-ef1c7d0f79a8",
   "metadata": {},
   "source": [
    "In this notebook, Data Science Tools and Ecosystem are summarized."
   ]
  },
  {
   "cell_type": "markdown",
   "id": "e4b18944-c4f2-4bec-920f-ead5bef8f357",
   "metadata": {},
   "source": [
    "**Objectives**\n",
    "- List popular languages for Data Science\n",
    "- List of tools used in Data Science\n",
    "- How we use Jupyter Notebook\n",
    "- How we use RStudio\n",
    "- Git and Github"
   ]
  },
  {
   "cell_type": "markdown",
   "id": "f1982200-f8a3-4bdb-a504-7a2c6855f4ed",
   "metadata": {},
   "source": [
    "Some of the popular languages that Data Scientists use are :\n",
    "\n",
    "1. Python\n",
    "2. R\n",
    "3. C++"
   ]
  },
  {
   "cell_type": "markdown",
   "id": "886050e2-f8e6-4b9d-9341-eb9cff61ae21",
   "metadata": {},
   "source": [
    "Some of the commonly used libraries used by Data Scientists include:\n",
    " 1. NumPy\n",
    " 2. Scikit-learn\n",
    " 3. Matplotlib\n",
    " 4. Ggplot\n",
    " 5. SciPy"
   ]
  },
  {
   "cell_type": "markdown",
   "id": "289100bc-7d5a-411e-947d-646372ac277a",
   "metadata": {},
   "source": [
    "|Data Science Tools|\n",
    "| --- |\n",
    "| Jupyter Notebook |\n",
    " | RStudio |\n",
    " | Vscode |\n",
    "\n"
   ]
  },
  {
   "cell_type": "markdown",
   "id": "057d6370-16df-4911-9b4a-b2cd63cf8b20",
   "metadata": {},
   "source": [
    "### Below are a few examples of evaluating arithmetic expressions in Python"
   ]
  },
  {
   "cell_type": "code",
   "execution_count": 2,
   "id": "d7204c80-f921-4864-991d-3b288f73f7e2",
   "metadata": {},
   "outputs": [
    {
     "data": {
      "text/plain": [
       "17"
      ]
     },
     "execution_count": 2,
     "metadata": {},
     "output_type": "execute_result"
    }
   ],
   "source": [
    "(3*4)+5\n",
    "#This a simple arithmetic expression to mutiply then add integers"
   ]
  },
  {
   "cell_type": "code",
   "execution_count": 6,
   "id": "9d3c8874-105f-4869-b778-cbcf23bd2ee2",
   "metadata": {},
   "outputs": [
    {
     "data": {
      "text/plain": [
       "3.3333333333333335"
      ]
     },
     "execution_count": 6,
     "metadata": {},
     "output_type": "execute_result"
    }
   ],
   "source": [
    "#This will convert 200 minutes to hours by diving by 60\n",
    "(200/60)"
   ]
  },
  {
   "cell_type": "markdown",
   "id": "d030fdee-c68f-4111-82f5-4c8880230f41",
   "metadata": {},
   "source": [
    "## Author\n",
    "Nitesh Kumar"
   ]
  },
  {
   "cell_type": "code",
   "execution_count": null,
   "id": "c941c33c-3e9b-40db-9fc2-749f9a611086",
   "metadata": {},
   "outputs": [],
   "source": []
  }
 ],
 "metadata": {
  "kernelspec": {
   "display_name": "Python 3 (ipykernel)",
   "language": "python",
   "name": "python3"
  },
  "language_info": {
   "codemirror_mode": {
    "name": "ipython",
    "version": 3
   },
   "file_extension": ".py",
   "mimetype": "text/x-python",
   "name": "python",
   "nbconvert_exporter": "python",
   "pygments_lexer": "ipython3",
   "version": "3.9.7"
  }
 },
 "nbformat": 4,
 "nbformat_minor": 5
}
